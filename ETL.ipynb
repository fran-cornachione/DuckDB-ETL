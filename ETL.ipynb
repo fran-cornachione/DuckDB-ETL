{
 "cells": [
  {
   "cell_type": "code",
   "execution_count": 1,
   "id": "0f300dd9",
   "metadata": {},
   "outputs": [],
   "source": [
    "import duckdb"
   ]
  },
  {
   "cell_type": "markdown",
   "id": "684fd21d",
   "metadata": {},
   "source": [
    "**Create DuckDB connection**"
   ]
  },
  {
   "cell_type": "code",
   "execution_count": 2,
   "id": "3d9dd33d",
   "metadata": {},
   "outputs": [],
   "source": [
    "conn = duckdb.connect()"
   ]
  },
  {
   "cell_type": "markdown",
   "id": "24544f2a",
   "metadata": {},
   "source": [
    "**Install Postgres in DuckDB**"
   ]
  },
  {
   "cell_type": "code",
   "execution_count": null,
   "id": "61d029ef",
   "metadata": {},
   "outputs": [],
   "source": [
    "conn.execute(\"INSTALL postgres;\")\n",
    "conn.execute(\"LOAD postgres;\")"
   ]
  },
  {
   "cell_type": "markdown",
   "id": "289afd4c",
   "metadata": {},
   "source": [
    "**Connect DuckDB with Postgres**\n",
    "\n",
    "Replace with your Postgres credentials"
   ]
  },
  {
   "cell_type": "code",
   "execution_count": null,
   "id": "c3d7c7e0",
   "metadata": {},
   "outputs": [],
   "source": [
    "conn.execute(f\"\"\"\n",
    "ATTACH 'dbname=your_dbname user=your_user password=your_password host=your_host port=5432' AS pg_db (TYPE POSTGRES);\n",
    "\"\"\")"
   ]
  },
  {
   "cell_type": "markdown",
   "id": "01ec56a1",
   "metadata": {},
   "source": [
    "`pg_db` is the connection alias, that acts as a catalog inside DuckDB, you can execute queries like this"
   ]
  },
  {
   "cell_type": "code",
   "execution_count": null,
   "id": "0eac141b",
   "metadata": {},
   "outputs": [],
   "source": [
    "# conn.execute(\"SELECT * FROM pg_db.table_name\")"
   ]
  },
  {
   "cell_type": "markdown",
   "id": "3977232b",
   "metadata": {},
   "source": [
    "## **Extract**"
   ]
  },
  {
   "cell_type": "markdown",
   "id": "356e149b",
   "metadata": {},
   "source": [
    "**Creating DuckDB Tables from CSV files**"
   ]
  },
  {
   "cell_type": "code",
   "execution_count": null,
   "id": "57792a3d",
   "metadata": {},
   "outputs": [],
   "source": [
    "# Tables (files) list\n",
    "tables = [\"students\", \"teachers\", \"classes\", \"courses\", \"enrollments\", \"grades\"]"
   ]
  },
  {
   "cell_type": "code",
   "execution_count": null,
   "id": "e15670e4",
   "metadata": {},
   "outputs": [],
   "source": [
    "for table in tables:\n",
    "    conn.execute(f\"\"\"CREATE OR REPLACE TABLE \n",
    "    {table}\n",
    "    AS SELECT \n",
    "        * \n",
    "    FROM \n",
    "        read_csv_auto('data/raw_data/{table}.csv');\"\"\")\n",
    "\n",
    "    print(f\"{table} table created succesfully\")"
   ]
  },
  {
   "cell_type": "markdown",
   "id": "c1816b99",
   "metadata": {},
   "source": [
    "## **Transform**"
   ]
  },
  {
   "cell_type": "markdown",
   "id": "525d5ce5",
   "metadata": {},
   "source": [
    "**Students Table**"
   ]
  },
  {
   "cell_type": "code",
   "execution_count": null,
   "id": "7b55a8a0",
   "metadata": {},
   "outputs": [],
   "source": [
    "students_query = conn.execute(\"DESCRIBE students\").df()\n",
    "students_query"
   ]
  },
  {
   "cell_type": "markdown",
   "id": "bf9edeca",
   "metadata": {},
   "source": [
    "Casting `student_id` from `BIGINT` to `INTEGER`: 8 bytes -> 4 bytes\n",
    "\n",
    "Casting `age` from `BIGINT` to `SMALLINT`: 8 bytes -> 2 bytes"
   ]
  },
  {
   "cell_type": "code",
   "execution_count": null,
   "id": "35e835f8",
   "metadata": {},
   "outputs": [],
   "source": [
    "conn.execute(\"\"\"\n",
    "CREATE OR REPLACE TABLE \n",
    "    students_clean\n",
    "AS SELECT\n",
    "    CAST(student_id AS INTEGER) AS student_id,\n",
    "    CAST(age AS SMALLINT) AS age,\n",
    "    * EXCLUDE (student_id, age)\n",
    "FROM\n",
    "    students;\n",
    "\"\"\")"
   ]
  },
  {
   "cell_type": "markdown",
   "id": "86547707",
   "metadata": {},
   "source": [
    "**Teachers Table**"
   ]
  },
  {
   "cell_type": "code",
   "execution_count": null,
   "id": "0bce2825",
   "metadata": {},
   "outputs": [],
   "source": [
    "teachers_query = conn.execute(\"DESCRIBE teachers\").df()\n",
    "teachers_query"
   ]
  },
  {
   "cell_type": "markdown",
   "id": "49c81152",
   "metadata": {},
   "source": [
    "Casting `teacher_id` from `BIGINT` to `INTEGER`"
   ]
  },
  {
   "cell_type": "code",
   "execution_count": null,
   "id": "42839000",
   "metadata": {},
   "outputs": [],
   "source": [
    "conn.execute(\"\"\"\n",
    "CREATE OR REPLACE TABLE \n",
    "    teachers_clean\n",
    "AS SELECT\n",
    "    CAST(teacher_id AS INTEGER) AS teacher_id,\n",
    "    * EXCLUDE (teacher_id)\n",
    "FROM\n",
    "    teachers;\n",
    "\"\"\")"
   ]
  },
  {
   "cell_type": "markdown",
   "id": "2b8b1c14",
   "metadata": {},
   "source": [
    "**Classes Table**"
   ]
  },
  {
   "cell_type": "code",
   "execution_count": null,
   "id": "a0ff00b4",
   "metadata": {},
   "outputs": [],
   "source": [
    "classes_query = conn.execute(\"DESCRIBE classes\").df()\n",
    "classes_query"
   ]
  },
  {
   "cell_type": "markdown",
   "id": "173102e1",
   "metadata": {},
   "source": [
    "Casting `class_id`, `course_id`, `teacher_id` from `BIGINT` to `INTEGER`"
   ]
  },
  {
   "cell_type": "code",
   "execution_count": null,
   "id": "9183c2f0",
   "metadata": {},
   "outputs": [],
   "source": [
    "conn.execute(\"\"\"\n",
    "CREATE OR REPLACE TABLE \n",
    "    classes_clean\n",
    "AS SELECT\n",
    "    CAST(class_id AS INTEGER) AS class_id,\n",
    "    CAST(course_id AS INTEGER) AS course_id,\n",
    "    CAST(teacher_id AS INTEGER) AS teacher_id,\n",
    "    * EXCLUDE (class_id, course_id, teacher_id)\n",
    "FROM\n",
    "    classes;\n",
    "\"\"\")"
   ]
  },
  {
   "cell_type": "markdown",
   "id": "e4eea220",
   "metadata": {},
   "source": [
    "**Courses Table**"
   ]
  },
  {
   "cell_type": "code",
   "execution_count": null,
   "id": "9983b052",
   "metadata": {},
   "outputs": [],
   "source": [
    "courses_query = conn.execute(\"DESCRIBE courses\").df()\n",
    "courses_query"
   ]
  },
  {
   "cell_type": "code",
   "execution_count": null,
   "id": "519648c7",
   "metadata": {},
   "outputs": [],
   "source": [
    "conn.execute(\"\"\"\n",
    "CREATE OR REPLACE TABLE \n",
    "    courses_clean\n",
    "AS SELECT\n",
    "    CAST(course_id AS INTEGER) AS course_id,\n",
    "    * EXCLUDE (course_id, credits),\n",
    "    CAST(credits AS SMALLINT) AS credits\n",
    "FROM\n",
    "    courses;\n",
    "\"\"\")"
   ]
  },
  {
   "cell_type": "markdown",
   "id": "0a36bbc7",
   "metadata": {},
   "source": [
    "**Grades Table**"
   ]
  },
  {
   "cell_type": "code",
   "execution_count": null,
   "id": "0f2cdefb",
   "metadata": {},
   "outputs": [],
   "source": [
    "grades_query = conn.execute(\"DESCRIBE grades\").df()\n",
    "grades_query"
   ]
  },
  {
   "cell_type": "markdown",
   "id": "a17bb48d",
   "metadata": {},
   "source": [
    "Casting `grade_id` and `enrollment` FROM `BIGINT` to `INTEGER`"
   ]
  },
  {
   "cell_type": "code",
   "execution_count": null,
   "id": "4b2ac580",
   "metadata": {},
   "outputs": [],
   "source": [
    "conn.execute(\"\"\"\n",
    "CREATE OR REPLACE TABLE \n",
    "    grades_clean\n",
    "AS SELECT\n",
    "    CAST(grade_id AS INTEGER) AS grade_id,\n",
    "    CAST(enrollment_id AS INTEGER) AS enrollment_id,\n",
    "    * EXCLUDE (grade_id, enrollment_id)\n",
    "FROM\n",
    "    grades;\n",
    "\"\"\")"
   ]
  },
  {
   "cell_type": "markdown",
   "id": "8a059d35",
   "metadata": {},
   "source": [
    "**Enrollments Table**"
   ]
  },
  {
   "cell_type": "code",
   "execution_count": null,
   "id": "05caf5e0",
   "metadata": {},
   "outputs": [],
   "source": [
    "enrollments_query = conn.execute(\"DESCRIBE enrollments\").df()\n",
    "enrollments_query"
   ]
  },
  {
   "cell_type": "code",
   "execution_count": null,
   "id": "20d39655",
   "metadata": {},
   "outputs": [],
   "source": [
    "conn.execute(\"\"\"\n",
    "CREATE OR REPLACE TABLE \n",
    "    enrollments_clean\n",
    "AS SELECT\n",
    "    CAST(enrollment_id AS INTEGER) AS enrollment_id,\n",
    "    CAST(student_id AS INTEGER) AS student_id,\n",
    "    CAST(class_id AS INTEGER) AS class_id,\n",
    "    * EXCLUDE (enrollment_id, student_id, class_id)\n",
    "FROM\n",
    "    enrollments;\n",
    "\"\"\")"
   ]
  },
  {
   "cell_type": "markdown",
   "id": "f225af41",
   "metadata": {},
   "source": [
    "## **Load**"
   ]
  },
  {
   "cell_type": "markdown",
   "id": "9f739ee8",
   "metadata": {},
   "source": [
    "Loading tables with clean data into Postgres"
   ]
  },
  {
   "cell_type": "code",
   "execution_count": null,
   "id": "5427c545",
   "metadata": {},
   "outputs": [],
   "source": [
    "for table in tables:\n",
    "    clean_table_name = f\"{table}_clean\" # students_clean, teachers_clean, etc...\n",
    "    \n",
    "    conn.execute(f\"\"\"\n",
    "    CREATE OR REPLACE TABLE \n",
    "        pg_db.{table} \n",
    "    AS SELECT \n",
    "        * \n",
    "    FROM \n",
    "        {clean_table_name};\n",
    "    \"\"\")\n",
    "    \n",
    "    print(f\"[{table}] table loaded succesfully into Postgres\")\n",
    "\n",
    "conn.close()"
   ]
  }
 ],
 "metadata": {
  "kernelspec": {
   "display_name": "Python 3",
   "language": "python",
   "name": "python3"
  },
  "language_info": {
   "codemirror_mode": {
    "name": "ipython",
    "version": 3
   },
   "file_extension": ".py",
   "mimetype": "text/x-python",
   "name": "python",
   "nbconvert_exporter": "python",
   "pygments_lexer": "ipython3",
   "version": "3.11.8"
  }
 },
 "nbformat": 4,
 "nbformat_minor": 5
}
